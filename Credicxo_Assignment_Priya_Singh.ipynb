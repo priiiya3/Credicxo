{
  "nbformat": 4,
  "nbformat_minor": 0,
  "metadata": {
    "colab": {
      "name": "Credicxo_Assignment_Priya_Singh.ipynb",
      "provenance": [],
      "authorship_tag": "ABX9TyPm3mFKczZ4hRLZq0IIZuGu",
      "include_colab_link": true
    },
    "kernelspec": {
      "name": "python3",
      "display_name": "Python 3"
    },
    "language_info": {
      "name": "python"
    }
  },
  "cells": [
    {
      "cell_type": "markdown",
      "metadata": {
        "id": "view-in-github",
        "colab_type": "text"
      },
      "source": [
        "<a href=\"https://colab.research.google.com/github/priiiya3/Credicxo/blob/master/Credicxo_Assignment_Priya_Singh.ipynb\" target=\"_parent\"><img src=\"https://colab.research.google.com/assets/colab-badge.svg\" alt=\"Open In Colab\"/></a>"
      ]
    },
    {
      "cell_type": "code",
      "execution_count": 1,
      "metadata": {
        "id": "GtzquEKt2Lno"
      },
      "outputs": [],
      "source": [
        "import json\n",
        "import time\n",
        "from json.decoder import JSONDecodeError\n",
        "from urllib.error import HTTPError\n",
        "\n",
        "import pandas as pd\n",
        "import requests\n",
        "from bs4 import BeautifulSoup"
      ]
    },
    {
      "cell_type": "code",
      "source": [
        "# set the header and proxy\n",
        "header = ({'User-Agent':'Mozilla/5.0 (X11; Linux x86_64)AppleWebKit/537.36 (KHTML, like Gecko)Chrome/44.0.2403.157 Safari/537.36','Accept-Language': 'en-US, en;q=0.5'})\n",
        "\n",
        "sess = requests.Session()\n",
        "sess.proxies = {\"http\": \"http://65.243.12.170:92\"}\n"
      ],
      "metadata": {
        "id": "QNaKZUqN2he9"
      },
      "execution_count": 10,
      "outputs": []
    },
    {
      "cell_type": "code",
      "source": [
        "# Reading URLs from the given cvs file\n",
        "prod_url = []\n",
        "prod_file = pd.read_csv('https://docs.google.com/spreadsheets/d/' + \n",
        "                   '1BZSPhk1LDrx8ytywMHWVpCqbm8URTxTJrIRkD7PnGTM' +\n",
        "                   '/export?gid=0&format=csv', index_col=0)\n",
        "\n",
        "# loop to iterate through all the countries and asin.\n",
        "for i, field in prod_file.iterrows():\n",
        "\tcountry = field['country']\n",
        "\tasin = field['Asin']\n",
        "\tprod_url.append('https://www.amazon.{}/dp/{}'.format(country, asin))\n",
        "\n",
        "\n",
        "program_starts = time.time()\n",
        "# this list stores all products\n",
        "products = []\n",
        "\n",
        "for i in prod_url:\n",
        "    src = sess.get(i, headers=header)\n",
        "\n",
        "    #log check to find 404 urls\n",
        "    # print(\"i\",i)\n",
        "    # print(\"src\", src)\n",
        "    soup = BeautifulSoup(src.content, 'lxml')\n",
        "\n",
        "    # if extracted source product has no content available then skip\n",
        "    if not src.content:\n",
        "        continue\n",
        "    \n",
        "    # to handle the url not found errors\n",
        "    error_element = soup.find('a', href=\"/ref=cs_404_logo/\")\n",
        "    if error_element:\n",
        "        print(f\"{i} is Not Found\")\n",
        "        continue\n",
        "\n",
        "    # this dictionary contains the information of a single product\n",
        "    prod_dict = {}\n",
        "\n",
        "    # To fetch Product Title\n",
        "    prod_title = soup.find(\"span\", attrs={\"id\": 'productTitle'})\n",
        "    if prod_title is not None:\n",
        "        prod_dict['Title'] = prod_title.text.strip()\n",
        "\n",
        "    # To fetch Product Image URL\n",
        "    prod_image = soup.find(\"img\", attrs={\"id\": 'landingImage'})\n",
        "    if prod_image is not None:\n",
        "        prod_dict['Image'] = prod_image.attrs[\"src\"]\n",
        "    \n",
        "    # To fetch Price of the Product\n",
        "    prod_price = soup.find(\"span\", attrs={\"class\": 'a-offscreen'})\n",
        "    if prod_price is not None:\n",
        "        prod_dict['Price'] = prod_price.text.strip()\n",
        "\n",
        "    # To fetch Product Details\n",
        "    prod_details = ''\n",
        "    for info in soup.findAll(\"span\", attrs={\"class\": 'a-list-item'}):\n",
        "        if info.string is not None:\n",
        "            details_value = info.text.strip()\n",
        "            if len(details_value) != 1:\n",
        "                prod_details += details_value + ' '\n",
        "    if prod_details != '':\n",
        "        prod_dict['Details'] = prod_details\n",
        "    \n",
        "    # add product details to products list\n",
        "    if prod_dict != {}:\n",
        "        products.append(prod_dict)\n"
      ],
      "metadata": {
        "id": "F7a1x0ai2ol3"
      },
      "execution_count": null,
      "outputs": []
    },
    {
      "cell_type": "code",
      "source": [
        "# To store the output data\n",
        "with open('result.json', 'r+') as fp:\n",
        "    try:\n",
        "        file_data = json.load(fp)\n",
        "        file_data += products\n",
        "        fp.seek(0)\n",
        "        json.dump(file_data, fp, indent=4)\n",
        "    except JSONDecodeError:\n",
        "        json.dump(products, fp, indent=4)\n",
        "\n",
        "# Logging the execution time\n",
        "now = time.time()\n",
        "print(\"Total Time Elasped: {}\".format(now - program_starts))\n"
      ],
      "metadata": {
        "colab": {
          "base_uri": "https://localhost:8080/"
        },
        "id": "2azEqnKo21L_",
        "outputId": "38e6b693-4525-402f-a400-82354d34f5c1"
      },
      "execution_count": 7,
      "outputs": [
        {
          "output_type": "stream",
          "name": "stdout",
          "text": [
            "Total Time Elasped: 151.26480793952942\n"
          ]
        }
      ]
    },
    {
      "cell_type": "code",
      "source": [
        ""
      ],
      "metadata": {
        "id": "3SLX0tb031vB"
      },
      "execution_count": null,
      "outputs": []
    }
  ]
}